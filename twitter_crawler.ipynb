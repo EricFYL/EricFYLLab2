{
  "cells": [
    {
      "cell_type": "code",
      "execution_count": 79,
      "metadata": {
        "id": "EtnaSlH-wplB"
      },
      "outputs": [],
      "source": [
        "# created on Dec 24, 2020\n",
        "# modified on April 12, 2022\n",
        "# @author:          Bo Zhao\n",
        "# @email:           zhaobo@uw.edu\n",
        "# @website:         https://hgis.uw.edu\n",
        "# @organization:    Department of Geography, University of Washington, Seattle\n",
        "# @description:     Search geo-tagged tweets within the U.S. This script is modified from https://github.com/shawn-terryah/Twitter_Geolocation"
      ]
    },
    {
      "cell_type": "code",
      "execution_count": 80,
      "metadata": {
        "id": "f-bMdKMawxnQ",
        "colab": {
          "base_uri": "https://localhost:8080/"
        },
        "outputId": "794a598f-2f5f-4edc-920c-76aabd8efc17"
      },
      "outputs": [
        {
          "output_type": "stream",
          "name": "stdout",
          "text": [
            "Drive already mounted at /gdrive; to attempt to forcibly remount, call drive.mount(\"/gdrive\", force_remount=True).\n"
          ]
        }
      ],
      "source": [
        "import tweepy, json, time\n",
        "import pandas as pd\n",
        "from google.colab import files\n",
        "# Create data on to Google Drive\n",
        "from google.colab import drive\n",
        "# Mount your Drive to the Colab VM.\n",
        "drive.mount('/gdrive')"
      ]
    },
    {
      "cell_type": "code",
      "execution_count": 81,
      "metadata": {
        "id": "dEyPts-ZwplE"
      },
      "outputs": [],
      "source": [
        "class StreamListener(tweepy.StreamListener):\n",
        "    \"\"\"tweepy.StreamListener is a class provided by tweepy used to access\n",
        "    the Twitter Streaming API to collect tweets in real-time.\n",
        "    \"\"\"\n",
        "\n",
        "    def __init__(self, time_limit=60, file=\"\"):\n",
        "        \"\"\"class initialization\"\"\"\n",
        "        self.start_time = time.time()\n",
        "        self.limit = time_limit\n",
        "        self.result = []\n",
        "        self.f = file\n",
        "        super(StreamListener, self).__init__()\n",
        "\n",
        "    def on_data(self, data):\n",
        "        \"\"\"This is called when data are streamed in.\"\"\"\n",
        "        if (time.time() - self.start_time) < self.limit:\n",
        "            datajson = json.loads(data)\n",
        "            # print(datajson, \"\\n\")\n",
        "            if 'id' not in datajson.keys():\n",
        "                time.sleep(10)\n",
        "            else:\n",
        "                id = datajson['id']\n",
        "                username = datajson['user']['screen_name']\n",
        "                created_at = datajson['created_at']\n",
        "                text = datajson['text'].strip().replace(\"\\n\", \"\")\n",
        "\n",
        "                # process the geo-tags\n",
        "                if datajson['coordinates'] == None:\n",
        "                    try:\n",
        "                        bbox = datajson['place']['bounding_box']['coordinates'][0]\n",
        "                        lng = (bbox[0][0] + bbox[2][0]) / 2.0\n",
        "                        lat = (bbox[0][1] + bbox[1][1]) / 2.0\n",
        "                    except:\n",
        "                        lat = 0\n",
        "                        lng = 0\n",
        "                else:\n",
        "                    lng = datajson['coordinates']['coordinates'][0]\n",
        "                    lat = datajson['coordinates']['coordinates'][1]\n",
        "\n",
        "                if lat != 0:\n",
        "                    row = {\n",
        "                        'id': id,\n",
        "                        'username': username,\n",
        "                        'created_at': created_at,\n",
        "                        'lng': lng,\n",
        "                        'lat': lat,\n",
        "                        'text': text\n",
        "                    }\n",
        "                    print(row)\n",
        "                    self.result.append(row)\n",
        "                else:\n",
        "                    pass\n",
        "        else:\n",
        "            df = pd.DataFrame(self.result)\n",
        "            df.to_csv(self.f, index=False)\n",
        "            # download the csv to your local computer\n",
        "            files.download(self.f)\n",
        "            print(\"the csv has been downloaded to your local computer. The program has been completed successfully.\")\n",
        "            return False"
      ]
    },
    {
      "cell_type": "code",
      "execution_count": 82,
      "metadata": {
        "id": "5Xzyo_OiwplG",
        "colab": {
          "base_uri": "https://localhost:8080/",
          "height": 1000
        },
        "outputId": "6df8fbb2-1e7f-4d6b-f56c-503b55c52e10"
      },
      "outputs": [
        {
          "output_type": "stream",
          "name": "stdout",
          "text": [
            "{'id': 1517739748290351104, 'username': 'josy07_', 'created_at': 'Sat Apr 23 05:38:48 +0000 2022', 'lng': -91.18805599999999, 'lat': 29.7055865, 'text': 'my plug fine'}\n",
            "{'id': 1517739749087367168, 'username': 'onmyblimp', 'created_at': 'Sat Apr 23 05:38:49 +0000 2022', 'lng': -90.011008, 'lat': 29.982601, 'text': '@Mals_pal The goat actually'}\n",
            "{'id': 1517739778384535552, 'username': '_fred2cold', 'created_at': 'Sat Apr 23 05:38:56 +0000 2022', 'lng': -89.87644900000001, 'lat': 32.571032, 'text': '@Coco_Godde55 Think you grown huh 😂'}\n",
            "{'id': 1517739780624289792, 'username': 'BrainzNBoobiez', 'created_at': 'Sat Apr 23 05:38:56 +0000 2022', 'lng': -91.0907995, 'lat': 30.4591, 'text': 'Between Ms. Pink Whitney and these damn Mimosas, I should sleep damn good tonight...'}\n",
            "{'id': 1517739783103070209, 'username': 'totallytwinked', 'created_at': 'Sat Apr 23 05:38:57 +0000 2022', 'lng': -90.1786295, 'lat': 30.001244, 'text': 'So I cut my own hair…. It’s not finished yet completely because it was interrupted but it’s not too terrible https://t.co/vf6YdHCo6y'}\n",
            "{'id': 1517739814438723585, 'username': 'onmyblimp', 'created_at': 'Sat Apr 23 05:39:04 +0000 2022', 'lng': -90.011008, 'lat': 29.982601, 'text': '@Mals_pal Lmaoooo this mf'}\n",
            "{'id': 1517739933481508864, 'username': 'mynameisryleigh', 'created_at': 'Sat Apr 23 05:39:33 +0000 2022', 'lng': -93.80943400000001, 'lat': 32.461107, 'text': 'talking to myself&gt;'}\n",
            "{'id': 1517739958718668802, 'username': 'TwinOne1221', 'created_at': 'Sat Apr 23 05:39:39 +0000 2022', 'lng': -100.0768885, 'lat': 31.1688935, 'text': '@ScarlettMichKat Wow!! Congrats! 🎉👏🏼👏🏼'}\n",
            "{'id': 1517740041472258048, 'username': 'clairezagorski', 'created_at': 'Sat Apr 23 05:39:58 +0000 2022', 'lng': -100.0768885, 'lat': 31.1688935, 'text': '@MFDanielFreeman @nabarund @mary_figgatt I will plug this panel - we don’t know much for certain about the mechanis… https://t.co/AimScv1wgL'}\n",
            "{'id': 1517740047444987904, 'username': 'JustinCone6', 'created_at': 'Sat Apr 23 05:40:00 +0000 2022', 'lng': -100.0768885, 'lat': 31.1688935, 'text': '@Ladyonlline Why do you want to eat earth'}\n",
            "{'id': 1517740054239711232, 'username': 'juicy_985', 'created_at': 'Sat Apr 23 05:40:01 +0000 2022', 'lng': -90.71462700000001, 'lat': 29.5821495, 'text': 'Feeling good 😌'}\n",
            "{'id': 1517740055955136515, 'username': 'TxBaseBalllDad', 'created_at': 'Sat Apr 23 05:40:02 +0000 2022', 'lng': -100.0768885, 'lat': 31.1688935, 'text': '@enrique_trublue I don’t wear snake boots at work I probably should we have snake chaps as well but i have never wore them either 🤞🏽'}\n",
            "{'id': 1517740056521412611, 'username': 'moutoncovewx', 'created_at': 'Sat Apr 23 05:40:02 +0000 2022', 'lng': -92.218675, 'lat': 29.875016, 'text': '71.1F (Feels: 74.3F) - Humidity: 86% - Wind: 3.0mph ESE - Gust: 4.7mph - Pressure: 30.102in #weather https://t.co/75yzNJ23Eh'}\n",
            "{'id': 1517740082555457536, 'username': 'KingKarmouche', 'created_at': 'Sat Apr 23 05:40:08 +0000 2022', 'lng': -91.40100849999999, 'lat': 30.937336000000002, 'text': 'He wild😂😂'}\n",
            "{'id': 1517740123919638529, 'username': 'DiazFCD21', 'created_at': 'Sat Apr 23 05:40:18 +0000 2022', 'lng': -100.0768885, 'lat': 31.1688935, 'text': 'THIS IS WHAT TRUE LOVE LOOKS LIKE.'}\n",
            "{'id': 1517740185500405761, 'username': 'JJ_GEAUX', 'created_at': 'Sat Apr 23 05:40:33 +0000 2022', 'lng': -90.011008, 'lat': 29.982601, 'text': 'The Blender was live tonight. Tough L, but the future looks bright https://t.co/kVMbBr5fGB'}\n",
            "{'id': 1517740209143787522, 'username': 'naynayy_02', 'created_at': 'Sat Apr 23 05:40:38 +0000 2022', 'lng': -90.011008, 'lat': 29.982601, 'text': 'Where does one under 21 go late night in nola?'}\n",
            "{'id': 1517740219616923650, 'username': 'zo_mama69', 'created_at': 'Sat Apr 23 05:40:41 +0000 2022', 'lng': -92.13127399999999, 'lat': 34.7519365, 'text': 'ya like jazz'}\n",
            "{'id': 1517740296049729536, 'username': 'tbanks0310', 'created_at': 'Sat Apr 23 05:40:59 +0000 2022', 'lng': -100.0768885, 'lat': 31.1688935, 'text': \"@ailemexxemelia @DrewAfualo Just know I'm not at fault when the evil Pisces comes out. Prepare for therapy. https://t.co/8TtVXVLw4n\"}\n",
            "{'id': 1517740322993983489, 'username': 'Cosmocityz', 'created_at': 'Sat Apr 23 05:41:05 +0000 2022', 'lng': -91.40100849999999, 'lat': 30.937336000000002, 'text': 'fuck you.'}\n",
            "{'id': 1517740412651417602, 'username': 'marrgivenchy', 'created_at': 'Sat Apr 23 05:41:27 +0000 2022', 'lng': -91.0907995, 'lat': 30.4591, 'text': 'most def with a MAN.. a baecation if you will'}\n",
            "{'id': 1517740468024623106, 'username': 'WDC2', 'created_at': 'Sat Apr 23 05:41:40 +0000 2022', 'lng': -100.0768885, 'lat': 31.1688935, 'text': '@NightWritergrrr It has to get to above 37° before we start complaining about the heat here. 30+ is just a normal summer day. I hate it.'}\n",
            "{'id': 1517740589550350337, 'username': 'TDub367', 'created_at': 'Sat Apr 23 05:42:09 +0000 2022', 'lng': -93.45860300000001, 'lat': 32.9958315, 'text': '@DValentinaXo Please do'}\n",
            "{'id': 1517740600279412736, 'username': 'JustinCone6', 'created_at': 'Sat Apr 23 05:42:12 +0000 2022', 'lng': -100.0768885, 'lat': 31.1688935, 'text': \"@Ladyonlline Sees sell soul me: I've already sold my soul to have all of humanity's warriors at my side\"}\n",
            "{'id': 1517740611813756928, 'username': 'nadiaborazjani', 'created_at': 'Sat Apr 23 05:42:14 +0000 2022', 'lng': -89.87644900000001, 'lat': 32.571032, 'text': 'UNAPRECIATED AS FUCKKK'}\n",
            "{'id': 1517740614250639363, 'username': 'MSgirl29', 'created_at': 'Sat Apr 23 05:42:15 +0000 2022', 'lng': -89.87644900000001, 'lat': 32.571032, 'text': '@Cameron17z @GeneralHospital @RebeccaLHerbst Exactly…'}\n",
            "{'id': 1517740658076827649, 'username': 'catladyrea', 'created_at': 'Sat Apr 23 05:42:25 +0000 2022', 'lng': -92.0767015, 'lat': 32.521243, 'text': 'Pelicans 💯Forever a Pelican, win or lose. I love my team ❤️💙 @PelicansNBA'}\n",
            "{'id': 1517740707909357569, 'username': 'Jet_Setter_Life', 'created_at': 'Sat Apr 23 05:42:37 +0000 2022', 'lng': -90.011008, 'lat': 29.982601, 'text': 'Not The Unions 😭🔥'}\n",
            "{'id': 1517740721931005952, 'username': 'dragos_ty', 'created_at': 'Sat Apr 23 05:42:41 +0000 2022', 'lng': -90.011008, 'lat': 29.982601, 'text': 'New Orleans you unleashed tonight thank you&lt;3🐉'}\n",
            "{'id': 1517740808874696704, 'username': 'arbyannalewis', 'created_at': 'Sat Apr 23 05:43:01 +0000 2022', 'lng': -90.1580165, 'lat': 32.230987, 'text': 'y’all be so inconsiderate.'}\n",
            "{'id': 1517740814222381056, 'username': 'lummesummma', 'created_at': 'Sat Apr 23 05:43:03 +0000 2022', 'lng': -100.0768885, 'lat': 31.1688935, 'text': \"@Grabaka_Hitman Get some glasses bro, that's gnp. Or, if you think gnp = crotch sniffing, watch sportsball\"}\n",
            "{'id': 1517740864717656064, 'username': 'cavelli_ts', 'created_at': 'Sat Apr 23 05:43:15 +0000 2022', 'lng': -89.87644900000001, 'lat': 32.571032, 'text': '@GOPChairwoman What are your thoughts on .@GOPLeader and .@RepMTG?'}\n",
            "{'id': 1517740875295645697, 'username': 'CaitlynMAcevedo', 'created_at': 'Sat Apr 23 05:43:17 +0000 2022', 'lng': -100.0768885, 'lat': 31.1688935, 'text': 'if he doesnt watch teresa with u, is he even the one?'}\n",
            "{'id': 1517740934334668800, 'username': 'lummesummma', 'created_at': 'Sat Apr 23 05:43:31 +0000 2022', 'lng': -100.0768885, 'lat': 31.1688935, 'text': \"@MmaUnderdogs Get some glasses bro, that's gnp. Or, if you think gnp = crotch sniffing, watch sportsball\"}\n",
            "{'id': 1517740942161240064, 'username': 'marrgivenchy', 'created_at': 'Sat Apr 23 05:43:33 +0000 2022', 'lng': -91.0907995, 'lat': 30.4591, 'text': 'don’t tell me this 😂 , imma sue for emotional distress bc why wtf you lying to me'}\n",
            "{'id': 1517740986730004484, 'username': 'CaitlynMAcevedo', 'created_at': 'Sat Apr 23 05:43:44 +0000 2022', 'lng': -100.0768885, 'lat': 31.1688935, 'text': 'felt so special today💖💖 https://t.co/I0ZV5uxmU3'}\n",
            "{'id': 1517741065645830144, 'username': 'DevinHarrell6', 'created_at': 'Sat Apr 23 05:44:02 +0000 2022', 'lng': -90.011008, 'lat': 29.982601, 'text': 'Canes stay open till 1??? Nvm lol it got Zaxbys beat'}\n",
            "{'id': 1517741067260600320, 'username': 'joshuaLyndell_', 'created_at': 'Sat Apr 23 05:44:03 +0000 2022', 'lng': -93.80943400000001, 'lat': 32.461107, 'text': '@lewjordy Boy saved 35-40 sham’s 4sure'}\n",
            "{'id': 1517741161867264000, 'username': 'Lark_NessMonsta', 'created_at': 'Sat Apr 23 05:44:25 +0000 2022', 'lng': -93.29476550000001, 'lat': 30.8475705, 'text': '@kennlandry I watched Angels/Stros during opening weekend. It was fun.'}\n",
            "{'id': 1517741205978857472, 'username': 'MikesFilmTalk', 'created_at': 'Sat Apr 23 05:44:36 +0000 2022', 'lng': -94.42388889, 'lat': 35.94833333, 'text': 'Homemade ream of asparagus soup . @ Lincoln, Arkansas https://t.co/1bQvh5grtA'}\n",
            "{'id': 1517741233136877569, 'username': 'imdaShxt1x', 'created_at': 'Sat Apr 23 05:44:42 +0000 2022', 'lng': -90.1580165, 'lat': 32.230987, 'text': 'I want some dick 😩😩'}\n",
            "{'id': 1517741239218622464, 'username': 'selenaazzz_', 'created_at': 'Sat Apr 23 05:44:44 +0000 2022', 'lng': -100.0768885, 'lat': 31.1688935, 'text': 'i just know harry is watching grupo firme 🤠'}\n",
            "{'id': 1517741252254617601, 'username': 'marrgivenchy', 'created_at': 'Sat Apr 23 05:44:47 +0000 2022', 'lng': -91.0907995, 'lat': 30.4591, 'text': 'honestly not worrying about popping out whenever i get my man i love my privacy y’all a know im takin but not our e… https://t.co/5S2WmQFCCT'}\n",
            "{'id': 1517741255597436928, 'username': 'JustinCone6', 'created_at': 'Sat Apr 23 05:44:48 +0000 2022', 'lng': -100.0768885, 'lat': 31.1688935, 'text': '@JGWpip Oh no he sees me https://t.co/mDDD6VAb1e'}\n",
            "{'id': 1517741298211602432, 'username': 'KingJay601', 'created_at': 'Sat Apr 23 05:44:58 +0000 2022', 'lng': -91.0907995, 'lat': 30.4591, 'text': 'Bored out my gotdamn mind'}\n",
            "{'id': 1517741346060214273, 'username': 'LewDawg85', 'created_at': 'Sat Apr 23 05:45:09 +0000 2022', 'lng': -93.1977235, 'lat': 30.202771, 'text': 'Gotta take a bathroom mirror pic... https://t.co/55nvQazc1J'}\n",
            "{'id': 1517741501756940288, 'username': 'JustinCone6', 'created_at': 'Sat Apr 23 05:45:46 +0000 2022', 'lng': -100.0768885, 'lat': 31.1688935, 'text': '@Eg6A5ERpJQt6uIb She looks happy'}\n",
            "{'id': 1517741552122146822, 'username': 'Jet_Setter_Life', 'created_at': 'Sat Apr 23 05:45:58 +0000 2022', 'lng': -90.011008, 'lat': 29.982601, 'text': 'Not I’m Still Soar 🙃🙃'}\n",
            "{'id': 1517741607013044231, 'username': 'DuaneRankin', 'created_at': 'Sat Apr 23 05:46:12 +0000 2022', 'lng': -90.011008, 'lat': 29.982601, 'text': '\"When things like that happen to us, we don\\'t shy away from it. That actually makes us go harder. I wouldn\\'t recomm… https://t.co/IlRBQG3gW3'}\n",
            "{'id': 1517741666295287809, 'username': 'Jet_Setter_Life', 'created_at': 'Sat Apr 23 05:46:26 +0000 2022', 'lng': -90.011008, 'lat': 29.982601, 'text': 'Not I’m Still Sore 🙃🙃'}\n",
            "{'id': 1517741681688334338, 'username': 'JustinCone6', 'created_at': 'Sat Apr 23 05:46:29 +0000 2022', 'lng': -100.0768885, 'lat': 31.1688935, 'text': '@gweitv Uhhh 1ok already!?!? This was an hour ago'}\n",
            "{'id': 1517741712675946497, 'username': 'AmandaSuspended', 'created_at': 'Sat Apr 23 05:46:37 +0000 2022', 'lng': -90.011008, 'lat': 29.982601, 'text': \"I contemplated calling 911 bc I'm afraid someone won't see that car in the dark but @NOPDNews doesn't show up for anything so 🤷🏾\\u200d♀️\"}\n",
            "{'id': 1517741725397274630, 'username': 'BromigoBeGaming', 'created_at': 'Sat Apr 23 05:46:40 +0000 2022', 'lng': -100.0768885, 'lat': 31.1688935, 'text': 'Damn I forgot to stream lol. I missed a day dammit'}\n",
            "{'id': 1517741742371520513, 'username': 'i_b_rockin', 'created_at': 'Sat Apr 23 05:46:44 +0000 2022', 'lng': -100.0768885, 'lat': 31.1688935, 'text': '@JeedSays @divya_gandotra @elonmusk Stop projecting amigo 😂'}\n",
            "{'id': 1517741743025893376, 'username': 'MonateMariaa', 'created_at': 'Sat Apr 23 05:46:44 +0000 2022', 'lng': -90.063763, 'lat': 29.876808, 'text': 'The lies 😭'}\n",
            "{'id': 1517741746477744129, 'username': 'clairezagorski', 'created_at': 'Sat Apr 23 05:46:45 +0000 2022', 'lng': -100.0768885, 'lat': 31.1688935, 'text': 'oh good, now “Frankenstein opioids” is going to become the next catchy nonsense term I see in literally every headl… https://t.co/zcqJMT6ups'}\n",
            "{'id': 1517741766300114944, 'username': 'KaleshaB', 'created_at': 'Sat Apr 23 05:46:50 +0000 2022', 'lng': -91.16361950000001, 'lat': 30.584425500000002, 'text': 'Lady bartender tonight told me to stop crying. Appreciate that 🌻'}\n",
            "{'id': 1517741851381727232, 'username': 'Bryankorourke', 'created_at': 'Sat Apr 23 05:47:10 +0000 2022', 'lng': -90.0792395, 'lat': 30.404169500000002, 'text': '@georgehahn @profgalloway Great stuff 😂😂'}\n",
            "{'id': 1517741895061020673, 'username': 'MSgirl29', 'created_at': 'Sat Apr 23 05:47:20 +0000 2022', 'lng': -89.87644900000001, 'lat': 32.571032, 'text': '@club_retreats @LivetoErr @cjlewis14 @mamurf41 @kenjeong It is sad that you have to like your own tweets!? What no… https://t.co/iGzpPwLWDe'}\n",
            "{'id': 1517741909694984192, 'username': 'D00MK1LL4', 'created_at': 'Sat Apr 23 05:47:24 +0000 2022', 'lng': -92.4001915, 'lat': 31.343874, 'text': \"@BHallBabyDoc @CeeHawk According to assassins Creed if he jumps off the ledge he'll land in a hay stack\"}\n",
            "{'id': 1517742002259038210, 'username': 'MicahGowan', 'created_at': 'Sat Apr 23 05:47:46 +0000 2022', 'lng': -91.40100849999999, 'lat': 30.937336000000002, 'text': \"@PelsPress People out here panicking. Lol we're fine.\"}\n",
            "{'id': 1517742006864330752, 'username': 'big_champlife', 'created_at': 'Sat Apr 23 05:47:47 +0000 2022', 'lng': -91.40100849999999, 'lat': 30.937336000000002, 'text': 'Our season..♉💪🏾 https://t.co/XOffSM1UjZ'}\n",
            "{'id': 1517742015156523009, 'username': 'thatmfjay', 'created_at': 'Sat Apr 23 05:47:49 +0000 2022', 'lng': -92.7019445, 'lat': 32.5277255, 'text': 'how tf the power out in only one building .. I’m confuseeddd'}\n",
            "{'id': 1517742141199499264, 'username': '_fred2cold', 'created_at': 'Sat Apr 23 05:48:19 +0000 2022', 'lng': -89.87644900000001, 'lat': 32.571032, 'text': '@Coco_Godde55 Lmfao 😂'}\n"
          ]
        },
        {
          "output_type": "display_data",
          "data": {
            "text/plain": [
              "<IPython.core.display.Javascript object>"
            ],
            "application/javascript": [
              "\n",
              "    async function download(id, filename, size) {\n",
              "      if (!google.colab.kernel.accessAllowed) {\n",
              "        return;\n",
              "      }\n",
              "      const div = document.createElement('div');\n",
              "      const label = document.createElement('label');\n",
              "      label.textContent = `Downloading \"${filename}\": `;\n",
              "      div.appendChild(label);\n",
              "      const progress = document.createElement('progress');\n",
              "      progress.max = size;\n",
              "      div.appendChild(progress);\n",
              "      document.body.appendChild(div);\n",
              "\n",
              "      const buffers = [];\n",
              "      let downloaded = 0;\n",
              "\n",
              "      const channel = await google.colab.kernel.comms.open(id);\n",
              "      // Send a message to notify the kernel that we're ready.\n",
              "      channel.send({})\n",
              "\n",
              "      for await (const message of channel.messages) {\n",
              "        // Send a message to notify the kernel that we're ready.\n",
              "        channel.send({})\n",
              "        if (message.buffers) {\n",
              "          for (const buffer of message.buffers) {\n",
              "            buffers.push(buffer);\n",
              "            downloaded += buffer.byteLength;\n",
              "            progress.value = downloaded;\n",
              "          }\n",
              "        }\n",
              "      }\n",
              "      const blob = new Blob(buffers, {type: 'application/binary'});\n",
              "      const a = document.createElement('a');\n",
              "      a.href = window.URL.createObjectURL(blob);\n",
              "      a.download = filename;\n",
              "      div.appendChild(a);\n",
              "      a.click();\n",
              "      div.remove();\n",
              "    }\n",
              "  "
            ]
          },
          "metadata": {}
        },
        {
          "output_type": "display_data",
          "data": {
            "text/plain": [
              "<IPython.core.display.Javascript object>"
            ],
            "application/javascript": [
              "download(\"download_545ef10e-4891-4882-8e46-439e32d642d6\", \"geotweets1.csv\", 9847)"
            ]
          },
          "metadata": {}
        },
        {
          "output_type": "stream",
          "name": "stdout",
          "text": [
            "the csv has been downloaded to your local computer. The program has been completed successfully.\n"
          ]
        }
      ],
      "source": [
        "if __name__ == \"__main__\":\n",
        "    # These are provided to you through the Twitter API after you create a account\n",
        "    # register a Twitter App to get the keys and access tokens.\n",
        "    output_file = '/gdrive/My Drive/Lab2/geotweets.csv'\n",
        "\n",
        "    # Apply for your own Twitter API keys at https://developer.twitter.com/en/apply-for-access\n",
        "    consumer_key = \"your_consumer_key\"\n",
        "    consumer_secret = \"your_consumer_secret\"\n",
        "    access_token = \"your_access_token\"\n",
        "    access_token_secret = \"your_access_token_secret\"\n",
        "\n",
        "    myauth = tweepy.OAuthHandler(consumer_key, consumer_secret)\n",
        "    myauth.set_access_token(access_token, access_token_secret)\n",
        "\n",
        "    # LOCATIONS are the longitude, latitude coordinate corners for a box that restricts the\n",
        "    # geographic area from which you will stream tweets. The first two define the southwest\n",
        "    # corner of the box and the second two define the northeast corner of the box.\n",
        "    LOCATIONS = [-85.42212575060134, 30.70757509493312, -80.98364958381788, 35.02434928937583] \n",
        "    # [-94.15028743784231, 29.014476253534777, -89.18446711324707, 33.01473874637009]\n",
        "\n",
        "    stream_listener = StreamListener(time_limit=600, file=output_file)\n",
        "    stream = tweepy.Stream(auth=myauth, listener=stream_listener)\n",
        "    stream.filter(locations=LOCATIONS, languages=['en'], encoding=\"utf-8\")\n"
      ]
    },
    {
      "cell_type": "markdown",
      "source": [
        ""
      ],
      "metadata": {
        "id": "mB34G1kUfLN9"
      }
    }
  ],
  "metadata": {
    "colab": {
      "collapsed_sections": [],
      "name": "geosearch.ipynb",
      "provenance": []
    },
    "kernelspec": {
      "display_name": "Python 3",
      "language": "python",
      "name": "python3"
    },
    "language_info": {
      "codemirror_mode": {
        "name": "ipython",
        "version": 3
      },
      "file_extension": ".py",
      "mimetype": "text/x-python",
      "name": "python",
      "nbconvert_exporter": "python",
      "pygments_lexer": "ipython3",
      "version": "3.7.4"
    }
  },
  "nbformat": 4,
  "nbformat_minor": 0
}